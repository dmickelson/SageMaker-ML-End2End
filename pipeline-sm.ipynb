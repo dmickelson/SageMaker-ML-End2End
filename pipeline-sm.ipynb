{
 "cells": [
  {
   "cell_type": "code",
   "execution_count": 28,
   "id": "a30a9820-d8ce-4a59-806b-27044de8b92c",
   "metadata": {
    "tags": []
   },
   "outputs": [
    {
     "name": "stdout",
     "output_type": "stream",
     "text": [
      "Requirement already satisfied: ucimlrepo in /home/ec2-user/anaconda3/envs/pytorch_p310/lib/python3.10/site-packages (0.0.7)\n",
      "Requirement already satisfied: pandas>=1.0.0 in /home/ec2-user/anaconda3/envs/pytorch_p310/lib/python3.10/site-packages (from ucimlrepo) (1.5.3)\n",
      "Requirement already satisfied: certifi>=2020.12.5 in /home/ec2-user/anaconda3/envs/pytorch_p310/lib/python3.10/site-packages (from ucimlrepo) (2024.7.4)\n",
      "Requirement already satisfied: python-dateutil>=2.8.1 in /home/ec2-user/anaconda3/envs/pytorch_p310/lib/python3.10/site-packages (from pandas>=1.0.0->ucimlrepo) (2.9.0)\n",
      "Requirement already satisfied: pytz>=2020.1 in /home/ec2-user/anaconda3/envs/pytorch_p310/lib/python3.10/site-packages (from pandas>=1.0.0->ucimlrepo) (2024.1)\n",
      "Requirement already satisfied: numpy>=1.21.0 in /home/ec2-user/anaconda3/envs/pytorch_p310/lib/python3.10/site-packages (from pandas>=1.0.0->ucimlrepo) (1.26.4)\n",
      "Requirement already satisfied: six>=1.5 in /home/ec2-user/anaconda3/envs/pytorch_p310/lib/python3.10/site-packages (from python-dateutil>=2.8.1->pandas>=1.0.0->ucimlrepo) (1.16.0)\n"
     ]
    }
   ],
   "source": [
    "!pip install ucimlrepo\n",
    "import os\n",
    "import pandas as pd\n",
    "import boto3\n",
    "import sagemaker\n",
    "import sagemaker.session\n",
    "from sagemaker.workflow.pipeline_context import PipelineSession\n",
    "from sagemaker.workflow.parameters import ParameterInteger, ParameterString\n",
    "from ucimlrepo import fetch_ucirepo \n",
    "\n",
    "\n",
    "# Retrieves the current AWS region name.\n",
    "region = boto3.Session().region_name\n",
    "# Creates a new SageMaker session.\n",
    "sagemaker_session = sagemaker.session.Session()\n",
    "# Gets the IAM execution role for SageMaker.\n",
    "role = sagemaker.get_execution_role()\n",
    "# Retrieves the default S3 bucket for the SageMaker session.\n",
    "default_bucket = sagemaker_session.default_bucket()\n",
    "# Creates a new PipelineSession for working with SageMaker Pipelines.\n",
    "pipeline_session = PipelineSession()\n",
    "# Defines a name for a SageMaker Model Package Group, which can be used to group related model versions.\n",
    "model_package_group_name = \"EndEndPackage\"\n",
    "\n"
   ]
  },
  {
   "cell_type": "code",
   "execution_count": 22,
   "id": "2d734525-94f5-49e0-812a-5757c79d167b",
   "metadata": {
    "tags": []
   },
   "outputs": [
    {
     "data": {
      "text/plain": [
       "'sagemaker-us-east-1-992382634893'"
      ]
     },
     "execution_count": 22,
     "metadata": {},
     "output_type": "execute_result"
    }
   ],
   "source": [
    "default_bucket"
   ]
  },
  {
   "cell_type": "markdown",
   "id": "e6091959-89ce-4bf2-9b68-c33742fd38aa",
   "metadata": {},
   "source": [
    "## Steps ##\n",
    "- Preprocessing\n",
    "- Training\n",
    "- Evaluation\n",
    "- Condition Evaluation\n",
    "- Model Registration"
   ]
  },
  {
   "cell_type": "code",
   "execution_count": 23,
   "id": "a88176b1-0c29-481c-a219-22e5f5aa43b2",
   "metadata": {
    "tags": []
   },
   "outputs": [
    {
     "name": "stdout",
     "output_type": "stream",
     "text": [
      "{'uci_id': 1, 'name': 'Abalone', 'repository_url': 'https://archive.ics.uci.edu/dataset/1/abalone', 'data_url': 'https://archive.ics.uci.edu/static/public/1/data.csv', 'abstract': 'Predict the age of abalone from physical measurements', 'area': 'Biology', 'tasks': ['Classification', 'Regression'], 'characteristics': ['Tabular'], 'num_instances': 4177, 'num_features': 8, 'feature_types': ['Categorical', 'Integer', 'Real'], 'demographics': [], 'target_col': ['Rings'], 'index_col': None, 'has_missing_values': 'no', 'missing_values_symbol': None, 'year_of_dataset_creation': 1994, 'last_updated': 'Mon Aug 28 2023', 'dataset_doi': '10.24432/C55C7W', 'creators': ['Warwick Nash', 'Tracy Sellers', 'Simon Talbot', 'Andrew Cawthorn', 'Wes Ford'], 'intro_paper': None, 'additional_info': {'summary': 'Predicting the age of abalone from physical measurements.  The age of abalone is determined by cutting the shell through the cone, staining it, and counting the number of rings through a microscope -- a boring and time-consuming task.  Other measurements, which are easier to obtain, are used to predict the age.  Further information, such as weather patterns and location (hence food availability) may be required to solve the problem.\\r\\n\\r\\nFrom the original data examples with missing values were removed (the majority having the predicted value missing), and the ranges of the continuous values have been scaled for use with an ANN (by dividing by 200).', 'purpose': None, 'funded_by': None, 'instances_represent': None, 'recommended_data_splits': None, 'sensitive_data': None, 'preprocessing_description': None, 'variable_info': 'Given is the attribute name, attribute type, the measurement unit and a brief description.  The number of rings is the value to predict: either as a continuous value or as a classification problem.\\r\\n\\r\\nName / Data Type / Measurement Unit / Description\\r\\n-----------------------------\\r\\nSex / nominal / -- / M, F, and I (infant)\\r\\nLength / continuous / mm / Longest shell measurement\\r\\nDiameter\\t/ continuous / mm / perpendicular to length\\r\\nHeight / continuous / mm / with meat in shell\\r\\nWhole weight / continuous / grams / whole abalone\\r\\nShucked weight / continuous\\t / grams / weight of meat\\r\\nViscera weight / continuous / grams / gut weight (after bleeding)\\r\\nShell weight / continuous / grams / after being dried\\r\\nRings / integer / -- / +1.5 gives the age in years\\r\\n\\r\\nThe readme file contains attribute statistics.', 'citation': None}}\n",
      "             name     role  ...  units missing_values\n",
      "0             Sex  Feature  ...   None             no\n",
      "1          Length  Feature  ...     mm             no\n",
      "2        Diameter  Feature  ...     mm             no\n",
      "3          Height  Feature  ...     mm             no\n",
      "4    Whole_weight  Feature  ...  grams             no\n",
      "5  Shucked_weight  Feature  ...  grams             no\n",
      "6  Viscera_weight  Feature  ...  grams             no\n",
      "7    Shell_weight  Feature  ...  grams             no\n",
      "8           Rings   Target  ...   None             no\n",
      "\n",
      "[9 rows x 7 columns]\n"
     ]
    }
   ],
   "source": [
    "# Dowload the dataset - Predicting the age of abalone from physical measurements\n",
    "# https://archive.ics.uci.edu/dataset/1/abalone/\n",
    "# # https://archive.ics.uci.edu/static/public/1/abalone.zip\n",
    "\n",
    "# Prepare the location to store the data\n",
    "# Ensure the data directory exists\n",
    "os.makedirs('data', exist_ok=True)\n",
    "local_path = \"data/abalone-dataset.csv\"\n",
    "\n",
    "# fetch dataset from UCI\n",
    "abalone = fetch_ucirepo(id=1) \n",
    "  \n",
    "# data (as pandas dataframes) \n",
    "features = abalone.data.features\n",
    "# the target are the Abalone Rings\n",
    "targets = abalone.data.targets \n",
    "  \n",
    "# metadata \n",
    "print(abalone.metadata) \n",
    "  \n",
    "# variable information \n",
    "print(abalone.variables) \n",
    "\n",
    "features.to_csv(local_path, index=False)\n",
    "\n",
    "\n",
    "# OR Download from your S3 bucket if applicable\n",
    "#s3 = boto3.resource(\"s3\")\n",
    "# s3.Bucket(f\"sagemaker-servicecatalog-seedcode={region}\").download_file(\n",
    "#    \"dataset/abalone-dataset.csv\",\n",
    "#    local_path)\n"
   ]
  },
  {
   "cell_type": "code",
   "execution_count": 24,
   "id": "566305cd-b5bd-4029-a08e-891e4bb5742e",
   "metadata": {
    "tags": []
   },
   "outputs": [
    {
     "name": "stdout",
     "output_type": "stream",
     "text": [
      "s3://sagemaker-us-east-1-992382634893/aws-mlops-live/abalone-dataset.csv\n"
     ]
    }
   ],
   "source": [
    "base_uri = f\"s3://{default_bucket}/aws-mlops-live\"\n",
    "input_data_uri = sagemaker.s3.S3Uploader.upload(\n",
    "    local_path = local_path,\n",
    "    desired_s3_uri = base_uri)\n",
    "print(input_data_uri)"
   ]
  },
  {
   "cell_type": "markdown",
   "id": "135af1e7-108c-448a-925e-5f5b028f6e52",
   "metadata": {},
   "source": [
    "## Definition of Pipeline Parameters ##\n",
    "Default variables for your pipeline\n",
    "- processing_instance_count \n",
    "- input_data\n",
    "- batch_data\n",
    "- model_approval_status"
   ]
  },
  {
   "cell_type": "code",
   "execution_count": 27,
   "id": "477dcdf8-c343-4434-9dcc-d5ce271fc28c",
   "metadata": {
    "tags": []
   },
   "outputs": [
    {
     "ename": "NameError",
     "evalue": "name 'batch_data_uri' is not defined",
     "output_type": "error",
     "traceback": [
      "\u001b[0;31m---------------------------------------------------------------------------\u001b[0m",
      "\u001b[0;31mNameError\u001b[0m                                 Traceback (most recent call last)",
      "Cell \u001b[0;32mIn[27], line 4\u001b[0m\n\u001b[1;32m      2\u001b[0m model_approval_status \u001b[38;5;241m=\u001b[39m ParameterString(name\u001b[38;5;241m=\u001b[39m\u001b[38;5;124m\"\u001b[39m\u001b[38;5;124mModelApprovalStatus\u001b[39m\u001b[38;5;124m\"\u001b[39m, default_value\u001b[38;5;241m=\u001b[39m\u001b[38;5;124m\"\u001b[39m\u001b[38;5;124mPendingManualApproval\u001b[39m\u001b[38;5;124m\"\u001b[39m)\n\u001b[1;32m      3\u001b[0m input_data \u001b[38;5;241m=\u001b[39m ParameterString(name\u001b[38;5;241m=\u001b[39m\u001b[38;5;124m\"\u001b[39m\u001b[38;5;124mInputData\u001b[39m\u001b[38;5;124m\"\u001b[39m, default_value\u001b[38;5;241m=\u001b[39minput_data_uri)\n\u001b[0;32m----> 4\u001b[0m batch_data \u001b[38;5;241m=\u001b[39m ParameterString(name\u001b[38;5;241m=\u001b[39m\u001b[38;5;124m\"\u001b[39m\u001b[38;5;124mBatchData\u001b[39m\u001b[38;5;124m\"\u001b[39m, default_value\u001b[38;5;241m=\u001b[39m\u001b[43mbatch_data_uri\u001b[49m)\n",
      "\u001b[0;31mNameError\u001b[0m: name 'batch_data_uri' is not defined"
     ]
    }
   ],
   "source": [
    "processing_instance_count = ParameterInteger(name=\"ProcessingInstanceCount\", default_value=1)\n",
    "model_approval_status = ParameterString(name=\"ModelApprovalStatus\", default_value=\"PendingManualApproval\")\n",
    "input_data = ParameterString(name=\"InputData\", default_value=input_data_uri)\n",
    "batch_data = ParameterString(name=\"BatchData\", default_value=batch_data_uri)"
   ]
  },
  {
   "cell_type": "markdown",
   "id": "1eeb9c56-5b73-4f8b-965c-fe5943233969",
   "metadata": {},
   "source": [
    "## Defining the Processing Step ##"
   ]
  },
  {
   "cell_type": "code",
   "execution_count": 29,
   "id": "807c4be2-a3e3-4aad-bf76-834318d53b6c",
   "metadata": {
    "tags": []
   },
   "outputs": [
    {
     "data": {
      "text/html": [
       "<div>\n",
       "<style scoped>\n",
       "    .dataframe tbody tr th:only-of-type {\n",
       "        vertical-align: middle;\n",
       "    }\n",
       "\n",
       "    .dataframe tbody tr th {\n",
       "        vertical-align: top;\n",
       "    }\n",
       "\n",
       "    .dataframe thead th {\n",
       "        text-align: right;\n",
       "    }\n",
       "</style>\n",
       "<table border=\"1\" class=\"dataframe\">\n",
       "  <thead>\n",
       "    <tr style=\"text-align: right;\">\n",
       "      <th></th>\n",
       "      <th>Sex</th>\n",
       "      <th>Length</th>\n",
       "      <th>Diameter</th>\n",
       "      <th>Height</th>\n",
       "      <th>Whole_weight</th>\n",
       "      <th>Shucked_weight</th>\n",
       "      <th>Viscera_weight</th>\n",
       "      <th>Shell_weight</th>\n",
       "    </tr>\n",
       "  </thead>\n",
       "  <tbody>\n",
       "    <tr>\n",
       "      <th>0</th>\n",
       "      <td>M</td>\n",
       "      <td>0.455</td>\n",
       "      <td>0.365</td>\n",
       "      <td>0.095</td>\n",
       "      <td>0.5140</td>\n",
       "      <td>0.2245</td>\n",
       "      <td>0.1010</td>\n",
       "      <td>0.150</td>\n",
       "    </tr>\n",
       "    <tr>\n",
       "      <th>1</th>\n",
       "      <td>M</td>\n",
       "      <td>0.350</td>\n",
       "      <td>0.265</td>\n",
       "      <td>0.090</td>\n",
       "      <td>0.2255</td>\n",
       "      <td>0.0995</td>\n",
       "      <td>0.0485</td>\n",
       "      <td>0.070</td>\n",
       "    </tr>\n",
       "    <tr>\n",
       "      <th>2</th>\n",
       "      <td>F</td>\n",
       "      <td>0.530</td>\n",
       "      <td>0.420</td>\n",
       "      <td>0.135</td>\n",
       "      <td>0.6770</td>\n",
       "      <td>0.2565</td>\n",
       "      <td>0.1415</td>\n",
       "      <td>0.210</td>\n",
       "    </tr>\n",
       "    <tr>\n",
       "      <th>3</th>\n",
       "      <td>M</td>\n",
       "      <td>0.440</td>\n",
       "      <td>0.365</td>\n",
       "      <td>0.125</td>\n",
       "      <td>0.5160</td>\n",
       "      <td>0.2155</td>\n",
       "      <td>0.1140</td>\n",
       "      <td>0.155</td>\n",
       "    </tr>\n",
       "    <tr>\n",
       "      <th>4</th>\n",
       "      <td>I</td>\n",
       "      <td>0.330</td>\n",
       "      <td>0.255</td>\n",
       "      <td>0.080</td>\n",
       "      <td>0.2050</td>\n",
       "      <td>0.0895</td>\n",
       "      <td>0.0395</td>\n",
       "      <td>0.055</td>\n",
       "    </tr>\n",
       "  </tbody>\n",
       "</table>\n",
       "</div>"
      ],
      "text/plain": [
       "  Sex  Length  Diameter  ...  Shucked_weight  Viscera_weight  Shell_weight\n",
       "0   M   0.455     0.365  ...          0.2245          0.1010         0.150\n",
       "1   M   0.350     0.265  ...          0.0995          0.0485         0.070\n",
       "2   F   0.530     0.420  ...          0.2565          0.1415         0.210\n",
       "3   M   0.440     0.365  ...          0.2155          0.1140         0.155\n",
       "4   I   0.330     0.255  ...          0.0895          0.0395         0.055\n",
       "\n",
       "[5 rows x 8 columns]"
      ]
     },
     "execution_count": 29,
     "metadata": {},
     "output_type": "execute_result"
    }
   ],
   "source": [
    "os.makedirs('abalone', exist_ok=True)\n",
    "df = pd.read_csv(local_path)\n",
    "df.head()"
   ]
  },
  {
   "cell_type": "code",
   "execution_count": 30,
   "id": "06e0c024-fa82-41a7-b5d4-c8da488c03c2",
   "metadata": {
    "tags": []
   },
   "outputs": [
    {
     "data": {
      "text/html": [
       "<div>\n",
       "<style scoped>\n",
       "    .dataframe tbody tr th:only-of-type {\n",
       "        vertical-align: middle;\n",
       "    }\n",
       "\n",
       "    .dataframe tbody tr th {\n",
       "        vertical-align: top;\n",
       "    }\n",
       "\n",
       "    .dataframe thead th {\n",
       "        text-align: right;\n",
       "    }\n",
       "</style>\n",
       "<table border=\"1\" class=\"dataframe\">\n",
       "  <thead>\n",
       "    <tr style=\"text-align: right;\">\n",
       "      <th></th>\n",
       "      <th>sex</th>\n",
       "      <th>length</th>\n",
       "      <th>diameter</th>\n",
       "      <th>height</th>\n",
       "      <th>whole_weight</th>\n",
       "      <th>shucked_weight</th>\n",
       "      <th>viscera_weight</th>\n",
       "      <th>shell_weight</th>\n",
       "    </tr>\n",
       "  </thead>\n",
       "  <tbody>\n",
       "    <tr>\n",
       "      <th>0</th>\n",
       "      <td>M</td>\n",
       "      <td>0.455</td>\n",
       "      <td>0.365</td>\n",
       "      <td>0.095</td>\n",
       "      <td>0.5140</td>\n",
       "      <td>0.2245</td>\n",
       "      <td>0.1010</td>\n",
       "      <td>0.150</td>\n",
       "    </tr>\n",
       "    <tr>\n",
       "      <th>1</th>\n",
       "      <td>M</td>\n",
       "      <td>0.350</td>\n",
       "      <td>0.265</td>\n",
       "      <td>0.090</td>\n",
       "      <td>0.2255</td>\n",
       "      <td>0.0995</td>\n",
       "      <td>0.0485</td>\n",
       "      <td>0.070</td>\n",
       "    </tr>\n",
       "    <tr>\n",
       "      <th>2</th>\n",
       "      <td>F</td>\n",
       "      <td>0.530</td>\n",
       "      <td>0.420</td>\n",
       "      <td>0.135</td>\n",
       "      <td>0.6770</td>\n",
       "      <td>0.2565</td>\n",
       "      <td>0.1415</td>\n",
       "      <td>0.210</td>\n",
       "    </tr>\n",
       "    <tr>\n",
       "      <th>3</th>\n",
       "      <td>M</td>\n",
       "      <td>0.440</td>\n",
       "      <td>0.365</td>\n",
       "      <td>0.125</td>\n",
       "      <td>0.5160</td>\n",
       "      <td>0.2155</td>\n",
       "      <td>0.1140</td>\n",
       "      <td>0.155</td>\n",
       "    </tr>\n",
       "    <tr>\n",
       "      <th>4</th>\n",
       "      <td>I</td>\n",
       "      <td>0.330</td>\n",
       "      <td>0.255</td>\n",
       "      <td>0.080</td>\n",
       "      <td>0.2050</td>\n",
       "      <td>0.0895</td>\n",
       "      <td>0.0395</td>\n",
       "      <td>0.055</td>\n",
       "    </tr>\n",
       "  </tbody>\n",
       "</table>\n",
       "</div>"
      ],
      "text/plain": [
       "  sex  length  diameter  ...  shucked_weight  viscera_weight  shell_weight\n",
       "0   M   0.455     0.365  ...          0.2245          0.1010         0.150\n",
       "1   M   0.350     0.265  ...          0.0995          0.0485         0.070\n",
       "2   F   0.530     0.420  ...          0.2565          0.1415         0.210\n",
       "3   M   0.440     0.365  ...          0.2155          0.1140         0.155\n",
       "4   I   0.330     0.255  ...          0.0895          0.0395         0.055\n",
       "\n",
       "[5 rows x 8 columns]"
      ]
     },
     "execution_count": 30,
     "metadata": {},
     "output_type": "execute_result"
    }
   ],
   "source": [
    "df.columns = df.columns.str.lower()\n",
    "df.head()"
   ]
  },
  {
   "cell_type": "code",
   "execution_count": null,
   "id": "21983375-2e1d-4972-8703-a3b0f1cf1be6",
   "metadata": {},
   "outputs": [],
   "source": []
  }
 ],
 "metadata": {
  "kernelspec": {
   "display_name": "conda_pytorch_p310",
   "language": "python",
   "name": "conda_pytorch_p310"
  },
  "language_info": {
   "codemirror_mode": {
    "name": "ipython",
    "version": 3
   },
   "file_extension": ".py",
   "mimetype": "text/x-python",
   "name": "python",
   "nbconvert_exporter": "python",
   "pygments_lexer": "ipython3",
   "version": "3.10.14"
  }
 },
 "nbformat": 4,
 "nbformat_minor": 5
}
